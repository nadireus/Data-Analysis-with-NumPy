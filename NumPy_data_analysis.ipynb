{
  "nbformat": 4,
  "nbformat_minor": 0,
  "metadata": {
    "colab": {
      "name": "NumPy data analysis.ipynb",
      "provenance": [],
      "collapsed_sections": [],
      "authorship_tag": "ABX9TyN+fCJ1qliw2Mij8vmamtLO",
      "include_colab_link": true
    },
    "kernelspec": {
      "name": "python3",
      "display_name": "Python 3"
    },
    "language_info": {
      "name": "python"
    }
  },
  "cells": [
    {
      "cell_type": "markdown",
      "metadata": {
        "id": "view-in-github",
        "colab_type": "text"
      },
      "source": [
        "<a href=\"https://colab.research.google.com/github/nadireus/Data-Analysis-with-NumPy/blob/main/NumPy_data_analysis.ipynb\" target=\"_parent\"><img src=\"https://colab.research.google.com/assets/colab-badge.svg\" alt=\"Open In Colab\"/></a>"
      ]
    },
    {
      "cell_type": "code",
      "metadata": {
        "id": "iMLj73nC5vqp"
      },
      "source": [
        "import numpy as np\n",
        "\n"
      ],
      "execution_count": 2,
      "outputs": []
    },
    {
      "cell_type": "code",
      "metadata": {
        "colab": {
          "base_uri": "https://localhost:8080/"
        },
        "id": "vhJSEeJ05lQ2",
        "outputId": "dc2a9550-56c4-49a4-ee91-7eb8b3f31698"
      },
      "source": [
        "np.random.rand(5)"
      ],
      "execution_count": 3,
      "outputs": [
        {
          "output_type": "execute_result",
          "data": {
            "text/plain": [
              "array([0.28293795, 0.75990191, 0.78757979, 0.82558362, 0.07683575])"
            ]
          },
          "metadata": {},
          "execution_count": 3
        }
      ]
    },
    {
      "cell_type": "code",
      "metadata": {
        "colab": {
          "base_uri": "https://localhost:8080/"
        },
        "id": "lXqjLS6n5lWF",
        "outputId": "7808e5fe-81bc-44d1-8b89-e7ca94b2753b"
      },
      "source": [
        "np.random.rand(5)"
      ],
      "execution_count": 4,
      "outputs": [
        {
          "output_type": "execute_result",
          "data": {
            "text/plain": [
              "array([0.68204657, 0.03655999, 0.54322599, 0.96063542, 0.89632424])"
            ]
          },
          "metadata": {},
          "execution_count": 4
        }
      ]
    },
    {
      "cell_type": "code",
      "metadata": {
        "colab": {
          "base_uri": "https://localhost:8080/"
        },
        "id": "NLaJoahq5lYu",
        "outputId": "f3347526-771c-48af-eb52-99732f5d8be0"
      },
      "source": [
        "rand_float = np.random.rand(5,3)# first str\n",
        "rand_float"
      ],
      "execution_count": 7,
      "outputs": [
        {
          "output_type": "execute_result",
          "data": {
            "text/plain": [
              "array([[0.1607466 , 0.8228673 , 0.56078855],\n",
              "       [0.47915374, 0.50775554, 0.24247513],\n",
              "       [0.8628268 , 0.93878253, 0.66470865],\n",
              "       [0.47415572, 0.44805102, 0.80826204],\n",
              "       [0.71923547, 0.85452226, 0.35645491]])"
            ]
          },
          "metadata": {},
          "execution_count": 7
        }
      ]
    },
    {
      "cell_type": "code",
      "metadata": {
        "colab": {
          "base_uri": "https://localhost:8080/",
          "height": 384
        },
        "id": "nDvsbmar5lct",
        "outputId": "c9a31b32-30a6-4998-a308-4d2a7424239d"
      },
      "source": [
        "import matplotlib.pyplot as plt\n",
        "%matplotlib inline\n",
        "plt.hist(rand_float)"
      ],
      "execution_count": 8,
      "outputs": [
        {
          "output_type": "execute_result",
          "data": {
            "text/plain": [
              "(array([[1., 0., 0., 0., 2., 0., 0., 1., 0., 1.],\n",
              "        [0., 0., 0., 1., 1., 0., 0., 0., 2., 1.],\n",
              "        [0., 1., 1., 0., 0., 1., 1., 0., 1., 0.]]),\n",
              " array([0.1607466 , 0.2385502 , 0.31635379, 0.39415738, 0.47196097,\n",
              "        0.54976457, 0.62756816, 0.70537175, 0.78317535, 0.86097894,\n",
              "        0.93878253]),\n",
              " <a list of 3 Lists of Patches objects>)"
            ]
          },
          "metadata": {},
          "execution_count": 8
        },
        {
          "output_type": "display_data",
          "data": {
            "image/png": "[encoded data removed]",
            "text/plain": [
              "<Figure size 432x288 with 1 Axes>"
            ]
          },
          "metadata": {
            "needs_background": "light"
          }
        }
      ]
    },
    {
      "cell_type": "code",
      "metadata": {
        "colab": {
          "base_uri": "https://localhost:8080/",
          "height": 265
        },
        "id": "6h_EnAuq5lfF",
        "outputId": "601f0c9c-01c2-4e9f-93c9-4b5e49fc07a6"
      },
      "source": [
        "arr = np.random.rand(1000)\n",
        "plt.hist(arr,bins=100);\n",
        "plt.show()# ; they do not show detailed information about arrays"
      ],
      "execution_count": 10,
      "outputs": [
        {
          "output_type": "display_data",
          "data": {
            "image/png": "[encoded data removed]",
            "text/plain": [
              "<Figure size 432x288 with 1 Axes>"
            ]
          },
          "metadata": {
            "needs_background": "light"
          }
        }
      ]
    },
    {
      "cell_type": "code",
      "metadata": {
        "colab": {
          "base_uri": "https://localhost:8080/"
        },
        "id": "Fy41GFhs5lhf",
        "outputId": "637a5f0d-520d-4d92-c2f3-09ae46330346"
      },
      "source": [
        "np.random.randn(5)# return sample from standard distribution unlike rand normal gaussian distribution of mean 0and variance"
      ],
      "execution_count": 11,
      "outputs": [
        {
          "output_type": "execute_result",
          "data": {
            "text/plain": [
              "array([-1.36089477, -1.01234808, -0.6409501 , -0.21598355,  0.55563058])"
            ]
          },
          "metadata": {},
          "execution_count": 11
        }
      ]
    },
    {
      "cell_type": "code",
      "metadata": {
        "id": "69oI2y865ljt"
      },
      "source": [
        ""
      ],
      "execution_count": null,
      "outputs": []
    },
    {
      "cell_type": "code",
      "metadata": {
        "colab": {
          "base_uri": "https://localhost:8080/"
        },
        "id": "nhVI0FXF5ll9",
        "outputId": "6ba0a5db-0a41-46e1-82fe-936f4fd42244"
      },
      "source": [
        "np.random.randn(5,5)"
      ],
      "execution_count": 12,
      "outputs": [
        {
          "output_type": "execute_result",
          "data": {
            "text/plain": [
              "array([[-0.14833828,  0.1514122 ,  0.19389078, -0.71421621,  0.23075816],\n",
              "       [ 0.47971388, -0.72295314, -0.01016154, -0.9476848 , -0.44411693],\n",
              "       [-0.34091597, -0.89430286,  1.3580914 , -0.17190154, -0.95466647],\n",
              "       [-0.78625945, -0.31700689, -1.13246848,  0.94313477, -1.29866444],\n",
              "       [-0.27187981, -1.53081181,  0.81789971,  0.81990912,  0.91456169]])"
            ]
          },
          "metadata": {},
          "execution_count": 12
        }
      ]
    },
    {
      "cell_type": "code",
      "metadata": {
        "colab": {
          "base_uri": "https://localhost:8080/",
          "height": 265
        },
        "id": "fJI60cmg5loV",
        "outputId": "1ec3e110-9e5e-44aa-eca9-390448a02660"
      },
      "source": [
        "arr_n = np.random.randn(99999)\n",
        "plt.hist(arr_n,bins=100);\n",
        "plt.show()# ; they do not show detailed information about arrays"
      ],
      "execution_count": 14,
      "outputs": [
        {
          "output_type": "display_data",
          "data": {
            "image/png": "[encoded data removed]",
            "text/plain": [
              "<Figure size 432x288 with 1 Axes>"
            ]
          },
          "metadata": {
            "needs_background": "light"
          }
        }
      ]
    },
    {
      "cell_type": "code",
      "metadata": {
        "colab": {
          "base_uri": "https://localhost:8080/"
        },
        "id": "JiU22wLX5lq9",
        "outputId": "d31f112d-4e6b-49dc-c278-28f8065f2cc7"
      },
      "source": [
        "arr_n.mean()"
      ],
      "execution_count": 16,
      "outputs": [
        {
          "output_type": "execute_result",
          "data": {
            "text/plain": [
              "-0.0036526559520823287"
            ]
          },
          "metadata": {},
          "execution_count": 16
        }
      ]
    },
    {
      "cell_type": "code",
      "metadata": {
        "colab": {
          "base_uri": "https://localhost:8080/"
        },
        "id": "uQGn0O1y9NNb",
        "outputId": "250c1201-828e-479b-8c2a-1c079b193ee6"
      },
      "source": [
        "arr_n.std()"
      ],
      "execution_count": 17,
      "outputs": [
        {
          "output_type": "execute_result",
          "data": {
            "text/plain": [
              "0.9985167714309742"
            ]
          },
          "metadata": {},
          "execution_count": 17
        }
      ]
    },
    {
      "cell_type": "code",
      "metadata": {
        "colab": {
          "base_uri": "https://localhost:8080/",
          "height": 265
        },
        "id": "79jzIjjs9eFy",
        "outputId": "ee6affca-7dbe-4642-c555-431731780f70"
      },
      "source": [
        "arr_s = np.random.randn(9)\n",
        "plt.hist(arr_s);\n",
        "plt.show()# ; they do not show detailed information about arrays"
      ],
      "execution_count": 19,
      "outputs": [
        {
          "output_type": "display_data",
          "data": {
            "image/png": "[encoded data removed]",
            "text/plain": [
              "<Figure size 432x288 with 1 Axes>"
            ]
          },
          "metadata": {
            "needs_background": "light"
          }
        }
      ]
    },
    {
      "cell_type": "code",
      "metadata": {
        "colab": {
          "base_uri": "https://localhost:8080/"
        },
        "id": "fouoQxZ79oPC",
        "outputId": "879a1edc-7221-4cc0-bb0c-44b49f355a2d"
      },
      "source": [
        "arr_s.mean()"
      ],
      "execution_count": 20,
      "outputs": [
        {
          "output_type": "execute_result",
          "data": {
            "text/plain": [
              "-1.2033826743005056"
            ]
          },
          "metadata": {},
          "execution_count": 20
        }
      ]
    },
    {
      "cell_type": "code",
      "metadata": {
        "colab": {
          "base_uri": "https://localhost:8080/"
        },
        "id": "d9RKhZS09oR5",
        "outputId": "d041e9d4-db59-4461-e77f-81ffdd5c5c86"
      },
      "source": [
        "arr_s.std()"
      ],
      "execution_count": 21,
      "outputs": [
        {
          "output_type": "execute_result",
          "data": {
            "text/plain": [
              "1.3024853770958393"
            ]
          },
          "metadata": {},
          "execution_count": 21
        }
      ]
    },
    {
      "cell_type": "code",
      "metadata": {
        "colab": {
          "base_uri": "https://localhost:8080/"
        },
        "id": "jMLgZIA09oUS",
        "outputId": "fb5e22fa-ddda-4a11-e880-e7a8beccc898"
      },
      "source": [
        "arr_s.var()"
      ],
      "execution_count": 22,
      "outputs": [
        {
          "output_type": "execute_result",
          "data": {
            "text/plain": [
              "1.6964681575484906"
            ]
          },
          "metadata": {},
          "execution_count": 22
        }
      ]
    },
    {
      "cell_type": "code",
      "metadata": {
        "colab": {
          "base_uri": "https://localhost:8080/"
        },
        "id": "tkjoeHTD9_78",
        "outputId": "c5233e22-069b-4372-8bf0-59436980a181"
      },
      "source": [
        "np.random.randint(0,10)"
      ],
      "execution_count": 23,
      "outputs": [
        {
          "output_type": "execute_result",
          "data": {
            "text/plain": [
              "6"
            ]
          },
          "metadata": {},
          "execution_count": 23
        }
      ]
    },
    {
      "cell_type": "code",
      "metadata": {
        "colab": {
          "base_uri": "https://localhost:8080/"
        },
        "id": "3y43h05O-Afb",
        "outputId": "df1a3efd-b357-4e89-89c5-b74725fef2b4"
      },
      "source": [
        "np.random.randint(0,10,5)"
      ],
      "execution_count": 25,
      "outputs": [
        {
          "output_type": "execute_result",
          "data": {
            "text/plain": [
              "array([3, 7, 4, 0, 8])"
            ]
          },
          "metadata": {},
          "execution_count": 25
        }
      ]
    },
    {
      "cell_type": "code",
      "metadata": {
        "colab": {
          "base_uri": "https://localhost:8080/"
        },
        "id": "7KITKJhW-dO7",
        "outputId": "1386fe4f-c78c-4b4f-ca0d-fb9dc5055568"
      },
      "source": [
        "np.random.randint(0,10,size=(4,4))"
      ],
      "execution_count": 27,
      "outputs": [
        {
          "output_type": "execute_result",
          "data": {
            "text/plain": [
              "array([[2, 1, 2, 1],\n",
              "       [3, 2, 4, 0],\n",
              "       [4, 0, 9, 5],\n",
              "       [4, 6, 2, 6]])"
            ]
          },
          "metadata": {},
          "execution_count": 27
        }
      ]
    },
    {
      "cell_type": "code",
      "metadata": {
        "colab": {
          "base_uri": "https://localhost:8080/"
        },
        "id": "zPYrg18_-mjy",
        "outputId": "a5921648-d1e4-4091-b994-a13286b19ca1"
      },
      "source": [
        "np.random.randint(0,[3,10,6,2])#üst bandi farkli yapbilirsin"
      ],
      "execution_count": 28,
      "outputs": [
        {
          "output_type": "execute_result",
          "data": {
            "text/plain": [
              "array([0, 5, 2, 0])"
            ]
          },
          "metadata": {},
          "execution_count": 28
        }
      ]
    },
    {
      "cell_type": "code",
      "metadata": {
        "colab": {
          "base_uri": "https://localhost:8080/"
        },
        "id": "8Ugev1wY-mm8",
        "outputId": "84fe517a-65c1-4a66-a427-b929a1b57c6f"
      },
      "source": [
        "np.random.randint([18,60,160,0],#low\n",
        "                  [35,100,210,5])#high"
      ],
      "execution_count": 30,
      "outputs": [
        {
          "output_type": "execute_result",
          "data": {
            "text/plain": [
              "array([ 19,  87, 165,   4])"
            ]
          },
          "metadata": {},
          "execution_count": 30
        }
      ]
    },
    {
      "cell_type": "markdown",
      "metadata": {
        "id": "3SWBffTwDecu"
      },
      "source": [
        "concatenation of the Arrays\n"
      ]
    },
    {
      "cell_type": "code",
      "metadata": {
        "colab": {
          "base_uri": "https://localhost:8080/"
        },
        "id": "lFKPRqZ4DciW",
        "outputId": "d6141c52-cb3b-4436-c2e7-26103f0d4008"
      },
      "source": [
        "ones = np.ones((4,4))\n",
        "ones"
      ],
      "execution_count": 31,
      "outputs": [
        {
          "output_type": "execute_result",
          "data": {
            "text/plain": [
              "array([[1., 1., 1., 1.],\n",
              "       [1., 1., 1., 1.],\n",
              "       [1., 1., 1., 1.],\n",
              "       [1., 1., 1., 1.]])"
            ]
          },
          "metadata": {},
          "execution_count": 31
        }
      ]
    },
    {
      "cell_type": "code",
      "metadata": {
        "colab": {
          "base_uri": "https://localhost:8080/"
        },
        "id": "INJkRLf5DclC",
        "outputId": "947fdfb6-69c8-4351-a293-bc52bf7b96b9"
      },
      "source": [
        "rand = np.random.randint(2,10,size =(4,4))\n",
        "rand"
      ],
      "execution_count": 32,
      "outputs": [
        {
          "output_type": "execute_result",
          "data": {
            "text/plain": [
              "array([[7, 9, 2, 3],\n",
              "       [6, 5, 5, 7],\n",
              "       [5, 2, 8, 2],\n",
              "       [3, 2, 4, 9]])"
            ]
          },
          "metadata": {},
          "execution_count": 32
        }
      ]
    },
    {
      "cell_type": "code",
      "metadata": {
        "colab": {
          "base_uri": "https://localhost:8080/"
        },
        "id": "pGHZa3pJDcn9",
        "outputId": "077d7966-f332-4b52-bc52-97604c533aee"
      },
      "source": [
        "np.concatenate([ones,rand])#axis =0"
      ],
      "execution_count": 33,
      "outputs": [
        {
          "output_type": "execute_result",
          "data": {
            "text/plain": [
              "array([[1., 1., 1., 1.],\n",
              "       [1., 1., 1., 1.],\n",
              "       [1., 1., 1., 1.],\n",
              "       [1., 1., 1., 1.],\n",
              "       [7., 9., 2., 3.],\n",
              "       [6., 5., 5., 7.],\n",
              "       [5., 2., 8., 2.],\n",
              "       [3., 2., 4., 9.]])"
            ]
          },
          "metadata": {},
          "execution_count": 33
        }
      ]
    },
    {
      "cell_type": "code",
      "metadata": {
        "colab": {
          "base_uri": "https://localhost:8080/"
        },
        "id": "ThkWA1eYDcrk",
        "outputId": "ecbce47a-7d44-43de-83f6-eaf36e6127a8"
      },
      "source": [
        "np.concatenate([ones,rand], axis = 1)#axis =1"
      ],
      "execution_count": 35,
      "outputs": [
        {
          "output_type": "execute_result",
          "data": {
            "text/plain": [
              "array([[1., 1., 1., 1., 7., 9., 2., 3.],\n",
              "       [1., 1., 1., 1., 6., 5., 5., 7.],\n",
              "       [1., 1., 1., 1., 5., 2., 8., 2.],\n",
              "       [1., 1., 1., 1., 3., 2., 4., 9.]])"
            ]
          },
          "metadata": {},
          "execution_count": 35
        }
      ]
    },
    {
      "cell_type": "code",
      "metadata": {
        "id": "6DSB90VkExZX"
      },
      "source": [
        ""
      ],
      "execution_count": null,
      "outputs": []
    },
    {
      "cell_type": "code",
      "metadata": {
        "id": "4tAStMSv-Am7"
      },
      "source": [
        "rand2 = np.random.randint(2,10,size =(5,4))"
      ],
      "execution_count": 117,
      "outputs": []
    },
    {
      "cell_type": "code",
      "metadata": {
        "id": "ehR9xCbVE0DL"
      },
      "source": [
        ""
      ],
      "execution_count": null,
      "outputs": []
    },
    {
      "cell_type": "markdown",
      "metadata": {
        "id": "hfIRlwN0E0go"
      },
      "source": [
        "Splitting of Arrays"
      ]
    },
    {
      "cell_type": "code",
      "metadata": {
        "colab": {
          "base_uri": "https://localhost:8080/"
        },
        "id": "wIPOOJ_DFVCt",
        "outputId": "e5989fc2-6751-4417-b262-765214c91737"
      },
      "source": [
        "conct = np.arange(1,26).reshape(5,5)\n",
        "conct"
      ],
      "execution_count": 45,
      "outputs": [
        {
          "output_type": "execute_result",
          "data": {
            "text/plain": [
              "array([[ 1,  2,  3,  4,  5],\n",
              "       [ 6,  7,  8,  9, 10],\n",
              "       [11, 12, 13, 14, 15],\n",
              "       [16, 17, 18, 19, 20],\n",
              "       [21, 22, 23, 24, 25]])"
            ]
          },
          "metadata": {},
          "execution_count": 45
        }
      ]
    },
    {
      "cell_type": "code",
      "metadata": {
        "id": "ccBYodEYGqbW"
      },
      "source": [
        ""
      ],
      "execution_count": null,
      "outputs": []
    },
    {
      "cell_type": "code",
      "metadata": {
        "colab": {
          "base_uri": "https://localhost:8080/"
        },
        "id": "gIPeFp4GFm4M",
        "outputId": "49cd1234-cac7-43c8-d2ff-cf0bb9fd59b6"
      },
      "source": [
        "np.split(conct,[1,3])"
      ],
      "execution_count": 42,
      "outputs": [
        {
          "output_type": "execute_result",
          "data": {
            "text/plain": [
              "[array([[1, 2, 3, 4, 5]]), array([[ 6,  7,  8,  9, 10],\n",
              "        [11, 12, 13, 14, 15]]), array([[16, 17, 18, 19, 20],\n",
              "        [21, 22, 23, 24, 25]])]"
            ]
          },
          "metadata": {},
          "execution_count": 42
        }
      ]
    },
    {
      "cell_type": "code",
      "metadata": {
        "colab": {
          "base_uri": "https://localhost:8080/"
        },
        "id": "EVHWVi_rF2lh",
        "outputId": "05e0a557-4d7c-44fc-ac65-8d3a506c1b64"
      },
      "source": [
        "np.split(conct,[2,3],axis=1)"
      ],
      "execution_count": 43,
      "outputs": [
        {
          "output_type": "execute_result",
          "data": {
            "text/plain": [
              "[array([[ 1,  2],\n",
              "        [ 6,  7],\n",
              "        [11, 12],\n",
              "        [16, 17],\n",
              "        [21, 22]]), array([[ 3],\n",
              "        [ 8],\n",
              "        [13],\n",
              "        [18],\n",
              "        [23]]), array([[ 4,  5],\n",
              "        [ 9, 10],\n",
              "        [14, 15],\n",
              "        [19, 20],\n",
              "        [24, 25]])]"
            ]
          },
          "metadata": {},
          "execution_count": 43
        }
      ]
    },
    {
      "cell_type": "markdown",
      "metadata": {
        "id": "daMXEtCmGxaE"
      },
      "source": [
        "NumPy Indexing and Selection"
      ]
    },
    {
      "cell_type": "code",
      "metadata": {
        "id": "BfVrsGVRGr-D"
      },
      "source": [
        "import numpy as np\n",
        "import pandas as pd\n",
        "import seaborn as sns\n",
        "import matplotlib.pyplot as plt\n",
        "%matplotlib inline"
      ],
      "execution_count": 47,
      "outputs": []
    },
    {
      "cell_type": "code",
      "metadata": {
        "colab": {
          "base_uri": "https://localhost:8080/",
          "height": 419
        },
        "id": "uQ_6mOlsHAkR",
        "outputId": "89db4557-dc6d-4cd5-ac0e-6c7a2f8eb3ac"
      },
      "source": [
        "df = sns.load_dataset(\"diamonds\")\n",
        "df"
      ],
      "execution_count": 49,
      "outputs": [
        {
          "output_type": "execute_result",
          "data": {
            "text/html": [
              "<div>\n",
              "<style scoped>\n",
              "    .dataframe tbody tr th:only-of-type {\n",
              "        vertical-align: middle;\n",
              "    }\n",
              "\n",
              "    .dataframe tbody tr th {\n",
              "        vertical-align: top;\n",
              "    }\n",
              "\n",
              "    .dataframe thead th {\n",
              "        text-align: right;\n",
              "    }\n",
              "</style>\n",
              "<table border=\"1\" class=\"dataframe\">\n",
              "  <thead>\n",
              "    <tr style=\"text-align: right;\">\n",
              "      <th></th>\n",
              "      <th>carat</th>\n",
              "      <th>cut</th>\n",
              "      <th>color</th>\n",
              "      <th>clarity</th>\n",
              "      <th>depth</th>\n",
              "      <th>table</th>\n",
              "      <th>price</th>\n",
              "      <th>x</th>\n",
              "      <th>y</th>\n",
              "      <th>z</th>\n",
              "    </tr>\n",
              "  </thead>\n",
              "  <tbody>\n",
              "    <tr>\n",
              "      <th>0</th>\n",
              "      <td>0.23</td>\n",
              "      <td>Ideal</td>\n",
              "      <td>E</td>\n",
              "      <td>SI2</td>\n",
              "      <td>61.5</td>\n",
              "      <td>55.0</td>\n",
              "      <td>326</td>\n",
              "      <td>3.95</td>\n",
              "      <td>3.98</td>\n",
              "      <td>2.43</td>\n",
              "    </tr>\n",
              "    <tr>\n",
              "      <th>1</th>\n",
              "      <td>0.21</td>\n",
              "      <td>Premium</td>\n",
              "      <td>E</td>\n",
              "      <td>SI1</td>\n",
              "      <td>59.8</td>\n",
              "      <td>61.0</td>\n",
              "      <td>326</td>\n",
              "      <td>3.89</td>\n",
              "      <td>3.84</td>\n",
              "      <td>2.31</td>\n",
              "    </tr>\n",
              "    <tr>\n",
              "      <th>2</th>\n",
              "      <td>0.23</td>\n",
              "      <td>Good</td>\n",
              "      <td>E</td>\n",
              "      <td>VS1</td>\n",
              "      <td>56.9</td>\n",
              "      <td>65.0</td>\n",
              "      <td>327</td>\n",
              "      <td>4.05</td>\n",
              "      <td>4.07</td>\n",
              "      <td>2.31</td>\n",
              "    </tr>\n",
              "    <tr>\n",
              "      <th>3</th>\n",
              "      <td>0.29</td>\n",
              "      <td>Premium</td>\n",
              "      <td>I</td>\n",
              "      <td>VS2</td>\n",
              "      <td>62.4</td>\n",
              "      <td>58.0</td>\n",
              "      <td>334</td>\n",
              "      <td>4.20</td>\n",
              "      <td>4.23</td>\n",
              "      <td>2.63</td>\n",
              "    </tr>\n",
              "    <tr>\n",
              "      <th>4</th>\n",
              "      <td>0.31</td>\n",
              "      <td>Good</td>\n",
              "      <td>J</td>\n",
              "      <td>SI2</td>\n",
              "      <td>63.3</td>\n",
              "      <td>58.0</td>\n",
              "      <td>335</td>\n",
              "      <td>4.34</td>\n",
              "      <td>4.35</td>\n",
              "      <td>2.75</td>\n",
              "    </tr>\n",
              "    <tr>\n",
              "      <th>...</th>\n",
              "      <td>...</td>\n",
              "      <td>...</td>\n",
              "      <td>...</td>\n",
              "      <td>...</td>\n",
              "      <td>...</td>\n",
              "      <td>...</td>\n",
              "      <td>...</td>\n",
              "      <td>...</td>\n",
              "      <td>...</td>\n",
              "      <td>...</td>\n",
              "    </tr>\n",
              "    <tr>\n",
              "      <th>53935</th>\n",
              "      <td>0.72</td>\n",
              "      <td>Ideal</td>\n",
              "      <td>D</td>\n",
              "      <td>SI1</td>\n",
              "      <td>60.8</td>\n",
              "      <td>57.0</td>\n",
              "      <td>2757</td>\n",
              "      <td>5.75</td>\n",
              "      <td>5.76</td>\n",
              "      <td>3.50</td>\n",
              "    </tr>\n",
              "    <tr>\n",
              "      <th>53936</th>\n",
              "      <td>0.72</td>\n",
              "      <td>Good</td>\n",
              "      <td>D</td>\n",
              "      <td>SI1</td>\n",
              "      <td>63.1</td>\n",
              "      <td>55.0</td>\n",
              "      <td>2757</td>\n",
              "      <td>5.69</td>\n",
              "      <td>5.75</td>\n",
              "      <td>3.61</td>\n",
              "    </tr>\n",
              "    <tr>\n",
              "      <th>53937</th>\n",
              "      <td>0.70</td>\n",
              "      <td>Very Good</td>\n",
              "      <td>D</td>\n",
              "      <td>SI1</td>\n",
              "      <td>62.8</td>\n",
              "      <td>60.0</td>\n",
              "      <td>2757</td>\n",
              "      <td>5.66</td>\n",
              "      <td>5.68</td>\n",
              "      <td>3.56</td>\n",
              "    </tr>\n",
              "    <tr>\n",
              "      <th>53938</th>\n",
              "      <td>0.86</td>\n",
              "      <td>Premium</td>\n",
              "      <td>H</td>\n",
              "      <td>SI2</td>\n",
              "      <td>61.0</td>\n",
              "      <td>58.0</td>\n",
              "      <td>2757</td>\n",
              "      <td>6.15</td>\n",
              "      <td>6.12</td>\n",
              "      <td>3.74</td>\n",
              "    </tr>\n",
              "    <tr>\n",
              "      <th>53939</th>\n",
              "      <td>0.75</td>\n",
              "      <td>Ideal</td>\n",
              "      <td>D</td>\n",
              "      <td>SI2</td>\n",
              "      <td>62.2</td>\n",
              "      <td>55.0</td>\n",
              "      <td>2757</td>\n",
              "      <td>5.83</td>\n",
              "      <td>5.87</td>\n",
              "      <td>3.64</td>\n",
              "    </tr>\n",
              "  </tbody>\n",
              "</table>\n",
              "<p>53940 rows × 10 columns</p>\n",
              "</div>"
            ],
            "text/plain": [
              "       carat        cut color clarity  depth  table  price     x     y     z\n",
              "0       0.23      Ideal     E     SI2   61.5   55.0    326  3.95  3.98  2.43\n",
              "1       0.21    Premium     E     SI1   59.8   61.0    326  3.89  3.84  2.31\n",
              "2       0.23       Good     E     VS1   56.9   65.0    327  4.05  4.07  2.31\n",
              "3       0.29    Premium     I     VS2   62.4   58.0    334  4.20  4.23  2.63\n",
              "4       0.31       Good     J     SI2   63.3   58.0    335  4.34  4.35  2.75\n",
              "...      ...        ...   ...     ...    ...    ...    ...   ...   ...   ...\n",
              "53935   0.72      Ideal     D     SI1   60.8   57.0   2757  5.75  5.76  3.50\n",
              "53936   0.72       Good     D     SI1   63.1   55.0   2757  5.69  5.75  3.61\n",
              "53937   0.70  Very Good     D     SI1   62.8   60.0   2757  5.66  5.68  3.56\n",
              "53938   0.86    Premium     H     SI2   61.0   58.0   2757  6.15  6.12  3.74\n",
              "53939   0.75      Ideal     D     SI2   62.2   55.0   2757  5.83  5.87  3.64\n",
              "\n",
              "[53940 rows x 10 columns]"
            ]
          },
          "metadata": {},
          "execution_count": 49
        }
      ]
    },
    {
      "cell_type": "code",
      "metadata": {
        "colab": {
          "base_uri": "https://localhost:8080/"
        },
        "id": "t6yWIiOMHRit",
        "outputId": "321c65df-05a2-4c7a-87c2-1fb743b83e15"
      },
      "source": [
        "diamond = np.array(df[[\"carat\",\"depth\",\"price\",\t\"x\", \"y\",\"z\"\t]])\n",
        "diamond"
      ],
      "execution_count": 51,
      "outputs": [
        {
          "output_type": "execute_result",
          "data": {
            "text/plain": [
              "array([[2.300e-01, 6.150e+01, 3.260e+02, 3.950e+00, 3.980e+00, 2.430e+00],\n",
              "       [2.100e-01, 5.980e+01, 3.260e+02, 3.890e+00, 3.840e+00, 2.310e+00],\n",
              "       [2.300e-01, 5.690e+01, 3.270e+02, 4.050e+00, 4.070e+00, 2.310e+00],\n",
              "       ...,\n",
              "       [7.000e-01, 6.280e+01, 2.757e+03, 5.660e+00, 5.680e+00, 3.560e+00],\n",
              "       [8.600e-01, 6.100e+01, 2.757e+03, 6.150e+00, 6.120e+00, 3.740e+00],\n",
              "       [7.500e-01, 6.220e+01, 2.757e+03, 5.830e+00, 5.870e+00, 3.640e+00]])"
            ]
          },
          "metadata": {},
          "execution_count": 51
        }
      ]
    },
    {
      "cell_type": "code",
      "metadata": {
        "colab": {
          "base_uri": "https://localhost:8080/"
        },
        "id": "nFliLTGLIJOy",
        "outputId": "e36de73c-b2b3-4435-ce74-44a56de1959b"
      },
      "source": [
        "diamond[-1]"
      ],
      "execution_count": 52,
      "outputs": [
        {
          "output_type": "execute_result",
          "data": {
            "text/plain": [
              "array([7.500e-01, 6.220e+01, 2.757e+03, 5.830e+00, 5.870e+00, 3.640e+00])"
            ]
          },
          "metadata": {},
          "execution_count": 52
        }
      ]
    },
    {
      "cell_type": "code",
      "metadata": {
        "colab": {
          "base_uri": "https://localhost:8080/"
        },
        "id": "jlzHfRh4IMXL",
        "outputId": "49eaa7d9-81ac-46f7-a333-dd0ccd8df8dd"
      },
      "source": [
        "diamond[100:105]"
      ],
      "execution_count": 53,
      "outputs": [
        {
          "output_type": "execute_result",
          "data": {
            "text/plain": [
              "array([[7.50e-01, 6.32e+01, 2.76e+03, 5.80e+00, 5.75e+00, 3.65e+00],\n",
              "       [7.50e-01, 5.99e+01, 2.76e+03, 6.00e+00, 5.96e+00, 3.58e+00],\n",
              "       [7.40e-01, 6.16e+01, 2.76e+03, 5.80e+00, 5.85e+00, 3.59e+00],\n",
              "       [7.50e-01, 6.17e+01, 2.76e+03, 5.85e+00, 5.79e+00, 3.59e+00],\n",
              "       [8.00e-01, 6.29e+01, 2.76e+03, 5.94e+00, 5.87e+00, 3.72e+00]])"
            ]
          },
          "metadata": {},
          "execution_count": 53
        }
      ]
    },
    {
      "cell_type": "code",
      "metadata": {
        "id": "sK_YY5c2Jh53"
      },
      "source": [
        ""
      ],
      "execution_count": null,
      "outputs": []
    },
    {
      "cell_type": "code",
      "metadata": {
        "colab": {
          "base_uri": "https://localhost:8080/"
        },
        "id": "E1DbY-iPIMgT",
        "outputId": "1b411b6c-2490-4e2c-9e1c-eead33bc3062"
      },
      "source": [
        "diamond[-10:-5]"
      ],
      "execution_count": 55,
      "outputs": [
        {
          "output_type": "execute_result",
          "data": {
            "text/plain": [
              "array([[7.100e-01, 6.050e+01, 2.756e+03, 5.790e+00, 5.740e+00, 3.490e+00],\n",
              "       [7.100e-01, 5.980e+01, 2.756e+03, 5.740e+00, 5.730e+00, 3.430e+00],\n",
              "       [7.000e-01, 6.050e+01, 2.757e+03, 5.710e+00, 5.760e+00, 3.470e+00],\n",
              "       [7.000e-01, 6.120e+01, 2.757e+03, 5.690e+00, 5.720e+00, 3.490e+00],\n",
              "       [7.200e-01, 6.270e+01, 2.757e+03, 5.690e+00, 5.730e+00, 3.580e+00]])"
            ]
          },
          "metadata": {},
          "execution_count": 55
        }
      ]
    },
    {
      "cell_type": "code",
      "metadata": {
        "colab": {
          "base_uri": "https://localhost:8080/"
        },
        "id": "0wReUA_UIgBl",
        "outputId": "3d643fb0-6d55-4e32-ad5f-28d9a027bd0d"
      },
      "source": [
        "diamond[:,0]"
      ],
      "execution_count": 56,
      "outputs": [
        {
          "output_type": "execute_result",
          "data": {
            "text/plain": [
              "array([0.23, 0.21, 0.23, ..., 0.7 , 0.86, 0.75])"
            ]
          },
          "metadata": {},
          "execution_count": 56
        }
      ]
    },
    {
      "cell_type": "code",
      "metadata": {
        "colab": {
          "base_uri": "https://localhost:8080/"
        },
        "id": "62Z3xwKrIgHX",
        "outputId": "52b5e459-ab58-4198-d6d0-b21e7f16e5f7"
      },
      "source": [
        "diamond[0:2, 0:3]"
      ],
      "execution_count": 57,
      "outputs": [
        {
          "output_type": "execute_result",
          "data": {
            "text/plain": [
              "array([[2.30e-01, 6.15e+01, 3.26e+02],\n",
              "       [2.10e-01, 5.98e+01, 3.26e+02]])"
            ]
          },
          "metadata": {},
          "execution_count": 57
        }
      ]
    },
    {
      "cell_type": "code",
      "metadata": {
        "colab": {
          "base_uri": "https://localhost:8080/"
        },
        "id": "Nc3eYwTIJu7C",
        "outputId": "6e2c9d31-8c6f-4556-d62a-70ba1a6f46db"
      },
      "source": [
        "diamond[0,::2]"
      ],
      "execution_count": 59,
      "outputs": [
        {
          "output_type": "execute_result",
          "data": {
            "text/plain": [
              "array([2.30e-01, 3.26e+02, 3.98e+00])"
            ]
          },
          "metadata": {},
          "execution_count": 59
        }
      ]
    },
    {
      "cell_type": "code",
      "metadata": {
        "id": "9M7v94DuKaBQ"
      },
      "source": [
        "carat = diamond[:,0].reshape(len(diamond),1)"
      ],
      "execution_count": 67,
      "outputs": []
    },
    {
      "cell_type": "code",
      "metadata": {
        "id": "VAamVdVyK1pO"
      },
      "source": [
        "depth = diamond[:,1].reshape(len(diamond),1)"
      ],
      "execution_count": 65,
      "outputs": []
    },
    {
      "cell_type": "code",
      "metadata": {
        "colab": {
          "base_uri": "https://localhost:8080/"
        },
        "id": "n020VmajLLKs",
        "outputId": "093e7858-3f24-43e0-a0f3-bc85b5b14aec"
      },
      "source": [
        "np.concatenate([carat, depth], axis=1)"
      ],
      "execution_count": 68,
      "outputs": [
        {
          "output_type": "execute_result",
          "data": {
            "text/plain": [
              "array([[ 0.23, 61.5 ],\n",
              "       [ 0.21, 59.8 ],\n",
              "       [ 0.23, 56.9 ],\n",
              "       ...,\n",
              "       [ 0.7 , 62.8 ],\n",
              "       [ 0.86, 61.  ],\n",
              "       [ 0.75, 62.2 ]])"
            ]
          },
          "metadata": {},
          "execution_count": 68
        }
      ]
    },
    {
      "cell_type": "code",
      "metadata": {
        "colab": {
          "base_uri": "https://localhost:8080/"
        },
        "id": "-upoigfjLf4b",
        "outputId": "18552d90-ef17-420c-b251-6f6c297a078a"
      },
      "source": [
        "xyz= diamond[:,-3:].reshape(len(diamond),3)\n",
        "xyz"
      ],
      "execution_count": 70,
      "outputs": [
        {
          "output_type": "execute_result",
          "data": {
            "text/plain": [
              "array([[3.95, 3.98, 2.43],\n",
              "       [3.89, 3.84, 2.31],\n",
              "       [4.05, 4.07, 2.31],\n",
              "       ...,\n",
              "       [5.66, 5.68, 3.56],\n",
              "       [6.15, 6.12, 3.74],\n",
              "       [5.83, 5.87, 3.64]])"
            ]
          },
          "metadata": {},
          "execution_count": 70
        }
      ]
    },
    {
      "cell_type": "code",
      "metadata": {
        "id": "9UjbXy-TL2-4"
      },
      "source": [
        "volume = xyz[:,0]*xyz[:,1]*xyz[:,2]\n",
        "volume1= volume.reshape(len(volume),1)"
      ],
      "execution_count": 73,
      "outputs": []
    },
    {
      "cell_type": "code",
      "metadata": {
        "colab": {
          "base_uri": "https://localhost:8080/"
        },
        "id": "6KY2AhMyL3Rj",
        "outputId": "94db3635-3d27-41fb-cd1e-bbdc5d0ca7ca"
      },
      "source": [
        "lastvolume = np.concatenate([xyz,volume1], axis= 1)\n",
        "lastvolume"
      ],
      "execution_count": 76,
      "outputs": [
        {
          "output_type": "execute_result",
          "data": {
            "text/plain": [
              "array([[  3.95    ,   3.98    ,   2.43    ,  38.20203 ],\n",
              "       [  3.89    ,   3.84    ,   2.31    ,  34.505856],\n",
              "       [  4.05    ,   4.07    ,   2.31    ,  38.076885],\n",
              "       ...,\n",
              "       [  5.66    ,   5.68    ,   3.56    , 114.449728],\n",
              "       [  6.15    ,   6.12    ,   3.74    , 140.76612 ],\n",
              "       [  5.83    ,   5.87    ,   3.64    , 124.568444]])"
            ]
          },
          "metadata": {},
          "execution_count": 76
        }
      ]
    },
    {
      "cell_type": "code",
      "metadata": {
        "id": "2g-skqTSL3Ui"
      },
      "source": [
        "a = np.arange(0,10)"
      ],
      "execution_count": 79,
      "outputs": []
    },
    {
      "cell_type": "code",
      "metadata": {
        "colab": {
          "base_uri": "https://localhost:8080/"
        },
        "id": "J0dHpoQCSB3Q",
        "outputId": "e93f4a50-316d-4ba1-b64c-9ebbbc49b44a"
      },
      "source": [
        "a[::]"
      ],
      "execution_count": 80,
      "outputs": [
        {
          "output_type": "execute_result",
          "data": {
            "text/plain": [
              "array([0, 1, 2, 3, 4, 5, 6, 7, 8, 9])"
            ]
          },
          "metadata": {},
          "execution_count": 80
        }
      ]
    },
    {
      "cell_type": "code",
      "metadata": {
        "id": "n8cyKx8rVCxC"
      },
      "source": [
        ""
      ],
      "execution_count": null,
      "outputs": []
    },
    {
      "cell_type": "code",
      "metadata": {
        "id": "DKzbPWq_SP1f"
      },
      "source": [
        "b=  np.arange(0,10)"
      ],
      "execution_count": null,
      "outputs": []
    },
    {
      "cell_type": "code",
      "metadata": {
        "id": "rqzY5N6RVDc4"
      },
      "source": [
        "fancy = np.random.randint(0,100,10)"
      ],
      "execution_count": 81,
      "outputs": []
    },
    {
      "cell_type": "code",
      "metadata": {
        "colab": {
          "base_uri": "https://localhost:8080/"
        },
        "id": "LlWxKlsVVNdo",
        "outputId": "c03838a4-7100-4bd4-c1b3-6392e89aa477"
      },
      "source": [
        "fancy[[3,5,1,9]]"
      ],
      "execution_count": 82,
      "outputs": [
        {
          "output_type": "execute_result",
          "data": {
            "text/plain": [
              "array([77, 39, 70, 80])"
            ]
          },
          "metadata": {},
          "execution_count": 82
        }
      ]
    },
    {
      "cell_type": "code",
      "metadata": {
        "colab": {
          "base_uri": "https://localhost:8080/"
        },
        "id": "IjPxrp2wVNmp",
        "outputId": "c901332c-1541-4be4-d732-a4ba1944a6f7"
      },
      "source": [
        "fancy"
      ],
      "execution_count": 84,
      "outputs": [
        {
          "output_type": "execute_result",
          "data": {
            "text/plain": [
              "array([17, 70, 92, 77, 46, 39, 80, 92, 43, 80])"
            ]
          },
          "metadata": {},
          "execution_count": 84
        }
      ]
    },
    {
      "cell_type": "code",
      "metadata": {
        "id": "LEh6-r-SVNrA"
      },
      "source": [
        "f1 = fancy[[3,5,1,9]]"
      ],
      "execution_count": 85,
      "outputs": []
    },
    {
      "cell_type": "code",
      "metadata": {
        "id": "Lul3EiK-VNuF"
      },
      "source": [
        "f1[0] = -1"
      ],
      "execution_count": 86,
      "outputs": []
    },
    {
      "cell_type": "code",
      "metadata": {
        "colab": {
          "base_uri": "https://localhost:8080/"
        },
        "id": "Gy8OxOxvVNyo",
        "outputId": "204ca685-366a-4538-bcb8-3ad5ca2fedca"
      },
      "source": [
        "f1"
      ],
      "execution_count": 87,
      "outputs": [
        {
          "output_type": "execute_result",
          "data": {
            "text/plain": [
              "array([-1, 39, 70, 80])"
            ]
          },
          "metadata": {},
          "execution_count": 87
        }
      ]
    },
    {
      "cell_type": "code",
      "metadata": {
        "colab": {
          "base_uri": "https://localhost:8080/"
        },
        "id": "3KsODdmYVN1M",
        "outputId": "de989b1f-43c7-4429-feaf-c38d3f21350d"
      },
      "source": [
        "fancy"
      ],
      "execution_count": 88,
      "outputs": [
        {
          "output_type": "execute_result",
          "data": {
            "text/plain": [
              "array([17, 70, 92, 77, 46, 39, 80, 92, 43, 80])"
            ]
          },
          "metadata": {},
          "execution_count": 88
        }
      ]
    },
    {
      "cell_type": "code",
      "metadata": {
        "id": "mtWSULvCVN27"
      },
      "source": [
        "fancy2 =fancy"
      ],
      "execution_count": 89,
      "outputs": []
    },
    {
      "cell_type": "code",
      "metadata": {
        "id": "XLxrFViHVN5G"
      },
      "source": [
        "fancy2[1]= 111"
      ],
      "execution_count": 90,
      "outputs": []
    },
    {
      "cell_type": "code",
      "metadata": {
        "colab": {
          "base_uri": "https://localhost:8080/"
        },
        "id": "5_Q5uV_HWTvi",
        "outputId": "60e8af34-277c-437b-d01f-1dc5df5e7d8a"
      },
      "source": [
        "fancy"
      ],
      "execution_count": 91,
      "outputs": [
        {
          "output_type": "execute_result",
          "data": {
            "text/plain": [
              "array([ 17, 111,  92,  77,  46,  39,  80,  92,  43,  80])"
            ]
          },
          "metadata": {},
          "execution_count": 91
        }
      ]
    },
    {
      "cell_type": "code",
      "metadata": {
        "colab": {
          "base_uri": "https://localhost:8080/"
        },
        "id": "URXLgtxrWbDm",
        "outputId": "7451c0c0-9f87-42a3-a50f-9f4690ebbebd"
      },
      "source": [
        "fancy +1000"
      ],
      "execution_count": 92,
      "outputs": [
        {
          "output_type": "execute_result",
          "data": {
            "text/plain": [
              "array([1017, 1111, 1092, 1077, 1046, 1039, 1080, 1092, 1043, 1080])"
            ]
          },
          "metadata": {},
          "execution_count": 92
        }
      ]
    },
    {
      "cell_type": "code",
      "metadata": {
        "colab": {
          "base_uri": "https://localhost:8080/"
        },
        "id": "Ram6KLS4W_VQ",
        "outputId": "b624ddbc-cd6e-433d-e907-3e55c15048a7"
      },
      "source": [
        "xyz"
      ],
      "execution_count": 93,
      "outputs": [
        {
          "output_type": "execute_result",
          "data": {
            "text/plain": [
              "array([[3.95, 3.98, 2.43],\n",
              "       [3.89, 3.84, 2.31],\n",
              "       [4.05, 4.07, 2.31],\n",
              "       ...,\n",
              "       [5.66, 5.68, 3.56],\n",
              "       [6.15, 6.12, 3.74],\n",
              "       [5.83, 5.87, 3.64]])"
            ]
          },
          "metadata": {},
          "execution_count": 93
        }
      ]
    },
    {
      "cell_type": "code",
      "metadata": {
        "colab": {
          "base_uri": "https://localhost:8080/"
        },
        "id": "C5GC2CfKYxMT",
        "outputId": "ea84e894-e635-4aed-d156-0c920e40af2e"
      },
      "source": [
        "x = xyz[0:8, 0:3]\n",
        "x"
      ],
      "execution_count": 94,
      "outputs": [
        {
          "output_type": "execute_result",
          "data": {
            "text/plain": [
              "array([[3.95, 3.98, 2.43],\n",
              "       [3.89, 3.84, 2.31],\n",
              "       [4.05, 4.07, 2.31],\n",
              "       [4.2 , 4.23, 2.63],\n",
              "       [4.34, 4.35, 2.75],\n",
              "       [3.94, 3.96, 2.48],\n",
              "       [3.95, 3.98, 2.47],\n",
              "       [4.07, 4.11, 2.53]])"
            ]
          },
          "metadata": {},
          "execution_count": 94
        }
      ]
    },
    {
      "cell_type": "code",
      "metadata": {
        "colab": {
          "base_uri": "https://localhost:8080/"
        },
        "id": "vRX55y2QY-ek",
        "outputId": "a33100ad-0ec1-4de2-e1ed-ed30c529590e"
      },
      "source": [
        "x[2:6,1:3] = 0\n",
        "x"
      ],
      "execution_count": 96,
      "outputs": [
        {
          "output_type": "execute_result",
          "data": {
            "text/plain": [
              "array([[3.95, 3.98, 2.43],\n",
              "       [3.89, 3.84, 2.31],\n",
              "       [4.05, 0.  , 0.  ],\n",
              "       [4.2 , 0.  , 0.  ],\n",
              "       [4.34, 0.  , 0.  ],\n",
              "       [3.94, 0.  , 0.  ],\n",
              "       [3.95, 3.98, 2.47],\n",
              "       [4.07, 4.11, 2.53]])"
            ]
          },
          "metadata": {},
          "execution_count": 96
        }
      ]
    },
    {
      "cell_type": "code",
      "metadata": {
        "colab": {
          "base_uri": "https://localhost:8080/"
        },
        "id": "dg4ZiBIqY-n9",
        "outputId": "de9b589a-2e14-41d2-e12a-c8b057aec548"
      },
      "source": [
        "x[2:6,1:] = np.ones((4,2))\n",
        "x"
      ],
      "execution_count": 98,
      "outputs": [
        {
          "output_type": "execute_result",
          "data": {
            "text/plain": [
              "array([[3.95, 3.98, 2.43],\n",
              "       [3.89, 3.84, 2.31],\n",
              "       [4.05, 1.  , 1.  ],\n",
              "       [4.2 , 1.  , 1.  ],\n",
              "       [4.34, 1.  , 1.  ],\n",
              "       [3.94, 1.  , 1.  ],\n",
              "       [3.95, 3.98, 2.47],\n",
              "       [4.07, 4.11, 2.53]])"
            ]
          },
          "metadata": {},
          "execution_count": 98
        }
      ]
    },
    {
      "cell_type": "code",
      "metadata": {
        "colab": {
          "base_uri": "https://localhost:8080/"
        },
        "id": "SvOUuMdjZndb",
        "outputId": "282b14b8-276c-4db5-dea0-568f9b90fc0f"
      },
      "source": [
        "x[2:6,1:3] = [-1, 5]\n",
        "x"
      ],
      "execution_count": 99,
      "outputs": [
        {
          "output_type": "execute_result",
          "data": {
            "text/plain": [
              "array([[ 3.95,  3.98,  2.43],\n",
              "       [ 3.89,  3.84,  2.31],\n",
              "       [ 4.05, -1.  ,  5.  ],\n",
              "       [ 4.2 , -1.  ,  5.  ],\n",
              "       [ 4.34, -1.  ,  5.  ],\n",
              "       [ 3.94, -1.  ,  5.  ],\n",
              "       [ 3.95,  3.98,  2.47],\n",
              "       [ 4.07,  4.11,  2.53]])"
            ]
          },
          "metadata": {},
          "execution_count": 99
        }
      ]
    },
    {
      "cell_type": "code",
      "metadata": {
        "colab": {
          "base_uri": "https://localhost:8080/"
        },
        "id": "1esYv5GzaEl6",
        "outputId": "18d3d0a3-f541-4d86-9817-1501c9925d6b"
      },
      "source": [
        "np.sqrt(x)"
      ],
      "execution_count": 100,
      "outputs": [
        {
          "output_type": "stream",
          "name": "stderr",
          "text": [
            "/usr/local/lib/python3.7/dist-packages/ipykernel_launcher.py:1: RuntimeWarning: invalid value encountered in sqrt\n",
            "  \"\"\"Entry point for launching an IPython kernel.\n"
          ]
        },
        {
          "output_type": "execute_result",
          "data": {
            "text/plain": [
              "array([[1.98746069, 1.99499373, 1.55884573],\n",
              "       [1.97230829, 1.95959179, 1.51986842],\n",
              "       [2.01246118,        nan, 2.23606798],\n",
              "       [2.04939015,        nan, 2.23606798],\n",
              "       [2.08326667,        nan, 2.23606798],\n",
              "       [1.98494332,        nan, 2.23606798],\n",
              "       [1.98746069, 1.99499373, 1.57162336],\n",
              "       [2.0174241 , 2.02731349, 1.59059737]])"
            ]
          },
          "metadata": {},
          "execution_count": 100
        }
      ]
    },
    {
      "cell_type": "code",
      "metadata": {
        "id": "mjWF_NL_aRsx"
      },
      "source": [
        "import cmath"
      ],
      "execution_count": 101,
      "outputs": []
    },
    {
      "cell_type": "code",
      "metadata": {
        "colab": {
          "base_uri": "https://localhost:8080/"
        },
        "id": "8RUUZ0LsaVG6",
        "outputId": "48518e30-3ea9-40b5-cbe9-72d1589fb021"
      },
      "source": [
        "np.sqrt(x)"
      ],
      "execution_count": 102,
      "outputs": [
        {
          "output_type": "stream",
          "name": "stderr",
          "text": [
            "/usr/local/lib/python3.7/dist-packages/ipykernel_launcher.py:1: RuntimeWarning: invalid value encountered in sqrt\n",
            "  \"\"\"Entry point for launching an IPython kernel.\n"
          ]
        },
        {
          "output_type": "execute_result",
          "data": {
            "text/plain": [
              "array([[1.98746069, 1.99499373, 1.55884573],\n",
              "       [1.97230829, 1.95959179, 1.51986842],\n",
              "       [2.01246118,        nan, 2.23606798],\n",
              "       [2.04939015,        nan, 2.23606798],\n",
              "       [2.08326667,        nan, 2.23606798],\n",
              "       [1.98494332,        nan, 2.23606798],\n",
              "       [1.98746069, 1.99499373, 1.57162336],\n",
              "       [2.0174241 , 2.02731349, 1.59059737]])"
            ]
          },
          "metadata": {},
          "execution_count": 102
        }
      ]
    },
    {
      "cell_type": "code",
      "metadata": {
        "colab": {
          "base_uri": "https://localhost:8080/"
        },
        "id": "rIL3NxzOabJ4",
        "outputId": "497794a8-0006-47c5-ec64-d136222a1979"
      },
      "source": [
        "np.power(x,0.5)"
      ],
      "execution_count": 103,
      "outputs": [
        {
          "output_type": "stream",
          "name": "stderr",
          "text": [
            "/usr/local/lib/python3.7/dist-packages/ipykernel_launcher.py:1: RuntimeWarning: invalid value encountered in power\n",
            "  \"\"\"Entry point for launching an IPython kernel.\n"
          ]
        },
        {
          "output_type": "execute_result",
          "data": {
            "text/plain": [
              "array([[1.98746069, 1.99499373, 1.55884573],\n",
              "       [1.97230829, 1.95959179, 1.51986842],\n",
              "       [2.01246118,        nan, 2.23606798],\n",
              "       [2.04939015,        nan, 2.23606798],\n",
              "       [2.08326667,        nan, 2.23606798],\n",
              "       [1.98494332,        nan, 2.23606798],\n",
              "       [1.98746069, 1.99499373, 1.57162336],\n",
              "       [2.0174241 , 2.02731349, 1.59059737]])"
            ]
          },
          "metadata": {},
          "execution_count": 103
        }
      ]
    },
    {
      "cell_type": "code",
      "metadata": {
        "colab": {
          "base_uri": "https://localhost:8080/"
        },
        "id": "1pWyQWvcajBE",
        "outputId": "3364e81d-b90c-4c6a-91e9-224ef91937fb"
      },
      "source": [
        "np.sin(x)# radian"
      ],
      "execution_count": 104,
      "outputs": [
        {
          "output_type": "execute_result",
          "data": {
            "text/plain": [
              "array([[-0.72318812, -0.74357914,  0.65304075],\n",
              "       [-0.68047257, -0.64299874,  0.73900528],\n",
              "       [-0.78852525, -0.84147098, -0.95892427],\n",
              "       [-0.87157577, -0.84147098, -0.95892427],\n",
              "       [-0.93146079, -0.84147098, -0.95892427],\n",
              "       [-0.71624557, -0.84147098, -0.95892427],\n",
              "       [-0.72318812, -0.74357914,  0.62223356],\n",
              "       [-0.80066678, -0.82398434,  0.57417215]])"
            ]
          },
          "metadata": {},
          "execution_count": 104
        }
      ]
    },
    {
      "cell_type": "code",
      "metadata": {
        "colab": {
          "base_uri": "https://localhost:8080/"
        },
        "id": "D6D7JvKZa5lK",
        "outputId": "8c3a1d8b-16bf-4849-8112-b892776d020d"
      },
      "source": [
        "np.sin(np.pi/4)"
      ],
      "execution_count": 105,
      "outputs": [
        {
          "output_type": "execute_result",
          "data": {
            "text/plain": [
              "0.7071067811865475"
            ]
          },
          "metadata": {},
          "execution_count": 105
        }
      ]
    },
    {
      "cell_type": "code",
      "metadata": {
        "colab": {
          "base_uri": "https://localhost:8080/"
        },
        "id": "dkJ6FF9sbH7-",
        "outputId": "1cb2473d-c323-4cff-e999-3e5d387d2e5b"
      },
      "source": [
        "np.sin(np.pi/2)"
      ],
      "execution_count": 106,
      "outputs": [
        {
          "output_type": "execute_result",
          "data": {
            "text/plain": [
              "1.0"
            ]
          },
          "metadata": {},
          "execution_count": 106
        }
      ]
    },
    {
      "cell_type": "code",
      "metadata": {
        "colab": {
          "base_uri": "https://localhost:8080/"
        },
        "id": "juLzJwkKbK2l",
        "outputId": "41434cb8-c2ef-4118-d479-dfbc5c8be992"
      },
      "source": [
        "np.log(np.exp(1))"
      ],
      "execution_count": 108,
      "outputs": [
        {
          "output_type": "execute_result",
          "data": {
            "text/plain": [
              "1.0"
            ]
          },
          "metadata": {},
          "execution_count": 108
        }
      ]
    },
    {
      "cell_type": "code",
      "metadata": {
        "colab": {
          "base_uri": "https://localhost:8080/"
        },
        "id": "Rz4bKolobikm",
        "outputId": "f09c3212-b356-4d22-8ef6-67f342fa222a"
      },
      "source": [
        "arr = np.arange(0,10)\n",
        "np.mod(arr,3)"
      ],
      "execution_count": 109,
      "outputs": [
        {
          "output_type": "execute_result",
          "data": {
            "text/plain": [
              "array([0, 1, 2, 0, 1, 2, 0, 1, 2, 0])"
            ]
          },
          "metadata": {},
          "execution_count": 109
        }
      ]
    },
    {
      "cell_type": "code",
      "metadata": {
        "id": "tUHT-ZWjb5H9"
      },
      "source": [
        "arr2 = np.random.randint(0,100,50)"
      ],
      "execution_count": 110,
      "outputs": []
    },
    {
      "cell_type": "code",
      "metadata": {
        "id": "lRrmVirGcO_6"
      },
      "source": [
        ""
      ],
      "execution_count": null,
      "outputs": []
    },
    {
      "cell_type": "code",
      "metadata": {
        "id": "yF8f4Sh2cOo_"
      },
      "source": [
        ""
      ],
      "execution_count": null,
      "outputs": []
    }
  ]
}